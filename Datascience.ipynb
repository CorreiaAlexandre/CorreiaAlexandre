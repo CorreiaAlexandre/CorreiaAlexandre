{
  "nbformat": 4,
  "nbformat_minor": 0,
  "metadata": {
    "colab": {
      "name": "Datascience.ipynb",
      "provenance": [],
      "collapsed_sections": [],
      "authorship_tag": "ABX9TyPeoCukSAgP8oNkIYn4qHrB",
      "include_colab_link": true
    },
    "kernelspec": {
      "name": "python3",
      "display_name": "Python 3"
    },
    "language_info": {
      "name": "python"
    }
  },
  "cells": [
    {
      "cell_type": "markdown",
      "metadata": {
        "id": "view-in-github",
        "colab_type": "text"
      },
      "source": [
        "<a href=\"https://colab.research.google.com/github/CorreiaAlexandre/CorreiaAlexandre/blob/main/Datascience.ipynb\" target=\"_parent\"><img src=\"https://colab.research.google.com/assets/colab-badge.svg\" alt=\"Open In Colab\"/></a>"
      ]
    },
    {
      "cell_type": "code",
      "execution_count": null,
      "metadata": {
        "id": "KrfpsZxY70tH"
      },
      "outputs": [],
      "source": [
        ""
      ]
    },
    {
      "cell_type": "markdown",
      "source": [
        "Listas"
      ],
      "metadata": {
        "id": "WX-hVDBb73nW"
      }
    },
    {
      "cell_type": "code",
      "source": [
        "# criando lista\n",
        "lista = ['carne', 'arroz', 'feijao', 'chocolate']\n",
        "print(lista)"
      ],
      "metadata": {
        "colab": {
          "base_uri": "https://localhost:8080/"
        },
        "id": "jFNpfTSr76Dc",
        "outputId": "13f01f95-bff3-4ac8-f232-79cd48680cdb"
      },
      "execution_count": null,
      "outputs": [
        {
          "output_type": "stream",
          "name": "stdout",
          "text": [
            "['carne', 'arroz', 'feijao', 'chocolate']\n"
          ]
        }
      ]
    },
    {
      "cell_type": "code",
      "source": [
        "lista.append('leite')\n",
        "print(lista)"
      ],
      "metadata": {
        "colab": {
          "base_uri": "https://localhost:8080/"
        },
        "id": "3KuO1LS68TpZ",
        "outputId": "06749da5-2d62-4f73-a593-32f2c6bd21c3"
      },
      "execution_count": null,
      "outputs": [
        {
          "output_type": "stream",
          "name": "stdout",
          "text": [
            "['carne', 'arroz', 'feijao', 'chocolate', 'leite']\n"
          ]
        }
      ]
    },
    {
      "cell_type": "code",
      "source": [
        "lista.append('leite')\n",
        "print(lista)"
      ],
      "metadata": {
        "colab": {
          "base_uri": "https://localhost:8080/"
        },
        "id": "HzfxXqq18iB9",
        "outputId": "b60201fc-2af6-4cbd-e04a-3e25ff689940"
      },
      "execution_count": null,
      "outputs": [
        {
          "output_type": "stream",
          "name": "stdout",
          "text": [
            "['carne', 'arroz', 'feijao', 'chocolate', 'leite', 'leite']\n"
          ]
        }
      ]
    },
    {
      "cell_type": "code",
      "source": [
        "print(lista)"
      ],
      "metadata": {
        "colab": {
          "base_uri": "https://localhost:8080/"
        },
        "id": "CG8fYC6E9z9v",
        "outputId": "b9fd05be-1027-4f73-ce0a-1ae5af025bf9"
      },
      "execution_count": null,
      "outputs": [
        {
          "output_type": "stream",
          "name": "stdout",
          "text": [
            "['carne', 'arroz', 'feijao', 'chocolate', 'leite', 'leite']\n"
          ]
        }
      ]
    },
    {
      "cell_type": "code",
      "source": [
        "lista.count('leite')"
      ],
      "metadata": {
        "colab": {
          "base_uri": "https://localhost:8080/"
        },
        "id": "5NfQBOL_94Oe",
        "outputId": "26b4cae3-ac0c-4052-b1ed-dd72dc1370c9"
      },
      "execution_count": null,
      "outputs": [
        {
          "output_type": "execute_result",
          "data": {
            "text/plain": [
              "2"
            ]
          },
          "metadata": {},
          "execution_count": 16
        }
      ]
    },
    {
      "cell_type": "code",
      "source": [
        "A = []"
      ],
      "metadata": {
        "id": "a9EDlyK3DW4F"
      },
      "execution_count": null,
      "outputs": []
    },
    {
      "cell_type": "code",
      "source": [
        "A.append(25)"
      ],
      "metadata": {
        "id": "5SbsgP4uDcOj"
      },
      "execution_count": null,
      "outputs": []
    },
    {
      "cell_type": "code",
      "source": [
        "A"
      ],
      "metadata": {
        "colab": {
          "base_uri": "https://localhost:8080/"
        },
        "id": "MvuaI8urDoR7",
        "outputId": "af3a6c64-0a77-438e-8894-58a73d89147d"
      },
      "execution_count": null,
      "outputs": [
        {
          "output_type": "execute_result",
          "data": {
            "text/plain": [
              "[25]"
            ]
          },
          "metadata": {},
          "execution_count": 33
        }
      ]
    },
    {
      "cell_type": "code",
      "source": [
        "A.append(96)"
      ],
      "metadata": {
        "id": "UaGg3ZQ5Du-D"
      },
      "execution_count": null,
      "outputs": []
    },
    {
      "cell_type": "code",
      "source": [
        "A"
      ],
      "metadata": {
        "colab": {
          "base_uri": "https://localhost:8080/"
        },
        "id": "8ioNz3KdDyuH",
        "outputId": "add83aa9-9880-4e9b-949f-8ae7f165f4ca"
      },
      "execution_count": null,
      "outputs": [
        {
          "output_type": "execute_result",
          "data": {
            "text/plain": [
              "[25, 96]"
            ]
          },
          "metadata": {},
          "execution_count": 35
        }
      ]
    },
    {
      "cell_type": "code",
      "source": [
        "old_list = [1,2,3,10]"
      ],
      "metadata": {
        "id": "aQbMhGuqN74l"
      },
      "execution_count": null,
      "outputs": []
    },
    {
      "cell_type": "code",
      "source": [
        "new_list = []"
      ],
      "metadata": {
        "id": "QCQGNb_TOgsa"
      },
      "execution_count": null,
      "outputs": []
    },
    {
      "cell_type": "code",
      "source": [
        "for item in old_list:\n",
        "    new_list.append(item)"
      ],
      "metadata": {
        "id": "49N54susOkMR"
      },
      "execution_count": null,
      "outputs": []
    },
    {
      "cell_type": "code",
      "source": [
        "new_list"
      ],
      "metadata": {
        "colab": {
          "base_uri": "https://localhost:8080/"
        },
        "id": "73VEQea6O1wL",
        "outputId": "8385614e-ac93-4ad3-da52-37cec99a5572"
      },
      "execution_count": null,
      "outputs": [
        {
          "output_type": "execute_result",
          "data": {
            "text/plain": [
              "[1, 2, 3, 10]"
            ]
          },
          "metadata": {},
          "execution_count": 39
        }
      ]
    },
    {
      "cell_type": "code",
      "source": [
        "cidade1 = ['Amazonas','Rio de janeiro','Palmas']\n",
        "cidade1.extend(['Alagoas', 'Brasilia','Sao Paulo']) \n",
        "print(cidade1)\n"
      ],
      "metadata": {
        "colab": {
          "base_uri": "https://localhost:8080/"
        },
        "id": "pFeXBhqkPAva",
        "outputId": "87881512-17a0-4e2e-8dc9-f14f9d1682e9"
      },
      "execution_count": null,
      "outputs": [
        {
          "output_type": "stream",
          "name": "stdout",
          "text": [
            "['Amazonas', 'Rio de janeiro', 'Palmas', 'Alagoas', 'Brasilia', 'Sao Paulo']\n"
          ]
        }
      ]
    },
    {
      "cell_type": "code",
      "source": [
        "cidade1"
      ],
      "metadata": {
        "colab": {
          "base_uri": "https://localhost:8080/"
        },
        "id": "mOWv7ZHaPt_L",
        "outputId": "c326aa8b-1f17-4e7c-9d7a-273bd3376b08"
      },
      "execution_count": null,
      "outputs": [
        {
          "output_type": "execute_result",
          "data": {
            "text/plain": [
              "['Amazonas', 'Rio de janeiro', 'Palmas', 'Alagoas', 'Brasilia', 'Sao Paulo']"
            ]
          },
          "metadata": {},
          "execution_count": 52
        }
      ]
    },
    {
      "cell_type": "code",
      "source": [
        "cidade1.index('Palmas') # index ver a posicao na lista\n",
        "cidade1.index('Alagoas')\n",
        "cidade1.index('Brasilia')\n",
        "cidade1.index('Sao Paulo')\n"
      ],
      "metadata": {
        "colab": {
          "base_uri": "https://localhost:8080/"
        },
        "id": "i0VIlvEjQPft",
        "outputId": "32373403-a116-49a5-a3fa-d03f96196fa1"
      },
      "execution_count": null,
      "outputs": [
        {
          "output_type": "execute_result",
          "data": {
            "text/plain": [
              "5"
            ]
          },
          "metadata": {},
          "execution_count": 53
        }
      ]
    },
    {
      "cell_type": "code",
      "source": [
        "cidade1 = ['Rio de janeiro','Sao Paulo','Curitiba','Acre']"
      ],
      "metadata": {
        "id": "RZ6A5WwaSQyQ"
      },
      "execution_count": null,
      "outputs": []
    },
    {
      "cell_type": "code",
      "source": [
        "cidade1"
      ],
      "metadata": {
        "colab": {
          "base_uri": "https://localhost:8080/"
        },
        "id": "bSGCnYR_Ser4",
        "outputId": "2f406aa3-4074-4c0e-c348-43100b35988c"
      },
      "execution_count": null,
      "outputs": [
        {
          "output_type": "execute_result",
          "data": {
            "text/plain": [
              "['Rio de janeiro', 'Sao Paulo', 'Curitiba', 'Acre']"
            ]
          },
          "metadata": {},
          "execution_count": 63
        }
      ]
    },
    {
      "cell_type": "code",
      "source": [
        "cidade1.insert(1,25)"
      ],
      "metadata": {
        "id": "-JmnNFFOShZZ"
      },
      "execution_count": null,
      "outputs": []
    },
    {
      "cell_type": "code",
      "source": [
        "cidade1"
      ],
      "metadata": {
        "colab": {
          "base_uri": "https://localhost:8080/"
        },
        "id": "QAY5JqjmSo9p",
        "outputId": "3f66d8df-5799-437d-b9d4-5f6a3b69ebe6"
      },
      "execution_count": null,
      "outputs": [
        {
          "output_type": "execute_result",
          "data": {
            "text/plain": [
              "['Rio de janeiro', 25, 'Sao Paulo', 'Curitiba', 'Acre']"
            ]
          },
          "metadata": {},
          "execution_count": 65
        }
      ]
    },
    {
      "cell_type": "code",
      "source": [
        "cidade1.remove(25)"
      ],
      "metadata": {
        "id": "z-MKPfrUSqwJ"
      },
      "execution_count": null,
      "outputs": []
    },
    {
      "cell_type": "code",
      "source": [
        "cidade1"
      ],
      "metadata": {
        "colab": {
          "base_uri": "https://localhost:8080/"
        },
        "id": "cJifOTO8SvHy",
        "outputId": "4d839e32-d4e0-40b5-a28d-39bb19f1ea95"
      },
      "execution_count": null,
      "outputs": [
        {
          "output_type": "execute_result",
          "data": {
            "text/plain": [
              "['Rio de janeiro', 'Sao Paulo', 'Curitiba', 'Acre']"
            ]
          },
          "metadata": {},
          "execution_count": 82
        }
      ]
    },
    {
      "cell_type": "code",
      "source": [
        "cidade = ['Minas','Rio de Janeiro', 'Acre', 'Brasilia','Bahia','Floripa' ]"
      ],
      "metadata": {
        "id": "x1X7chqqT9Aq"
      },
      "execution_count": null,
      "outputs": []
    },
    {
      "cell_type": "code",
      "source": [
        "cidade.reverse()"
      ],
      "metadata": {
        "id": "4jHQc0jeU6SH"
      },
      "execution_count": null,
      "outputs": []
    },
    {
      "cell_type": "code",
      "source": [
        "cidade"
      ],
      "metadata": {
        "colab": {
          "base_uri": "https://localhost:8080/"
        },
        "id": "qE8myl2ZU_FZ",
        "outputId": "ecff60f1-a45f-4cec-855b-46116b38bed6"
      },
      "execution_count": null,
      "outputs": [
        {
          "output_type": "execute_result",
          "data": {
            "text/plain": [
              "['Floripa', 'Bahia', 'Brasilia', 'Acre', 'Rio de Janeiro', 'Minas']"
            ]
          },
          "metadata": {},
          "execution_count": 97
        }
      ]
    },
    {
      "cell_type": "code",
      "source": [
        "c = [3, 4, 2, 1, 24, 69, 32, 101, 34, 64]"
      ],
      "metadata": {
        "id": "s_LZwK2yVI84"
      },
      "execution_count": null,
      "outputs": []
    },
    {
      "cell_type": "code",
      "source": [
        "c"
      ],
      "metadata": {
        "colab": {
          "base_uri": "https://localhost:8080/"
        },
        "id": "ROn5VdleV0hh",
        "outputId": "cbf1a77e-69bb-48d4-a564-6d6f83711890"
      },
      "execution_count": null,
      "outputs": [
        {
          "output_type": "execute_result",
          "data": {
            "text/plain": [
              "[3, 4, 2, 1, 24, 69, 32, 101, 34, 64]"
            ]
          },
          "metadata": {},
          "execution_count": 106
        }
      ]
    },
    {
      "cell_type": "code",
      "source": [
        "c.sort()\n",
        "c"
      ],
      "metadata": {
        "colab": {
          "base_uri": "https://localhost:8080/"
        },
        "id": "DBcUqNN6V2gA",
        "outputId": "20ba558e-55ef-43db-8930-6251fcb73f53"
      },
      "execution_count": null,
      "outputs": [
        {
          "output_type": "execute_result",
          "data": {
            "text/plain": [
              "[1, 2, 3, 4, 24, 32, 34, 64, 69, 101]"
            ]
          },
          "metadata": {},
          "execution_count": 108
        }
      ]
    },
    {
      "cell_type": "code",
      "source": [
        ""
      ],
      "metadata": {
        "id": "ClqYkAkOV514"
      },
      "execution_count": null,
      "outputs": []
    }
  ]
}